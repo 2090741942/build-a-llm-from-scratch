{
 "cells": [
  {
   "cell_type": "code",
   "execution_count": 45,
   "id": "86443ab7",
   "metadata": {},
   "outputs": [],
   "source": [
    "import torch"
   ]
  },
  {
   "cell_type": "code",
   "execution_count": 46,
   "id": "b11f4bac",
   "metadata": {},
   "outputs": [],
   "source": [
    "from torch.utils.data import Dataset, DataLoader"
   ]
  },
  {
   "cell_type": "code",
   "execution_count": 47,
   "id": "08f976a7",
   "metadata": {},
   "outputs": [],
   "source": [
    "import tiktoken"
   ]
  },
  {
   "cell_type": "code",
   "execution_count": 48,
   "id": "75d0aa86",
   "metadata": {},
   "outputs": [],
   "source": [
    "# 将文本转化为token_id并以tensor形式存储\n",
    "class GPTDatasetV1(Dataset):\n",
    "    def __init__(self, txt, tokenizer, max_length, stride):\n",
    "        self.input_ids = []\n",
    "        self.target_ids = []\n",
    "        token_ids = tokenizer.encode(txt)\n",
    "        \n",
    "        for i in range(0, len(token_ids) - max_length, stride):  # 建立对应的输入和输出toekn_id tensor\n",
    "            input_chunk = token_ids[i: i+ max_length]\n",
    "            target_chunk = token_ids[i + 1: i + max_length + 1]\n",
    "            self.input_ids.append(torch.tensor(input_chunk))\n",
    "            self.target_ids.append(torch.tensor(target_chunk))\n",
    "            \n",
    "    def __len__(self):\n",
    "        return len(self.input_ids)  # 判断长度\n",
    "    \n",
    "    def __getitem__(self, idx):\n",
    "        return self.input_ids[idx], self.target_ids[idx]  # 返回输入和目标tensor中某一行"
   ]
  },
  {
   "cell_type": "code",
   "execution_count": 49,
   "id": "433357e4",
   "metadata": {},
   "outputs": [],
   "source": [
    "def create_dataloader_v1(txt, batch_size=4, max_length=256, stride=128, shuffle=True, drop_last=True, num_workers=0):\n",
    "    tokenizer = tiktoken.encoding_for_model(\"gpt-4\")\n",
    "    dataset = GPTDatasetV1(txt, tokenizer, max_length, stride) \n",
    "    dataloader = DataLoader(\n",
    "                            dataset,\n",
    "                            batch_size=batch_size,\n",
    "                            shuffle=shuffle,\n",
    "                            drop_last=drop_last, \n",
    "                            num_workers=num_workers \n",
    "    )\n",
    "    return dataloader"
   ]
  },
  {
   "cell_type": "code",
   "execution_count": 50,
   "id": "5c9e68ac",
   "metadata": {},
   "outputs": [],
   "source": [
    "tokenizer_bpe = tiktoken.encoding_for_model(\"gpt-4\")"
   ]
  },
  {
   "cell_type": "code",
   "execution_count": 51,
   "id": "64a7fa99",
   "metadata": {},
   "outputs": [],
   "source": [
    "with open(\"the-verdict.txt\", \"r\", encoding=\"utf-8\") as f:\n",
    "    raw_text = f.read()"
   ]
  },
  {
   "cell_type": "code",
   "execution_count": 52,
   "id": "eb6eda01",
   "metadata": {},
   "outputs": [],
   "source": [
    "vocab_size = 50257\n",
    "output_dim = 256\n",
    "\n",
    "# 创建嵌入层，vocab_size表示一次处理几个值，output_dim表示每个值变为几维向量\n",
    "token_embedding_layer = torch.nn.Embedding(vocab_size, output_dim)\n",
    "\n",
    "# 将文字数据变为token id\n",
    "max_length = 4\n",
    "dataloader = create_dataloader_v1(raw_text, batch_size=8, max_length=max_length, stride=max_length, shuffle=False)"
   ]
  },
  {
   "cell_type": "code",
   "execution_count": 53,
   "id": "b9749e89",
   "metadata": {},
   "outputs": [
    {
     "name": "stdout",
     "output_type": "stream",
     "text": [
      "input:  tensor([[   40,   473,  1846,  2744],\n",
      "        [ 3463,  7762,   480,   285],\n",
      "        [22464,  4856,   264, 12136],\n",
      "        [35201,   313,  4636,   264],\n",
      "        [ 1695, 12637,  3403,   313],\n",
      "        [  708,   433,   574,   912],\n",
      "        [ 2294, 13051,   311,   757],\n",
      "        [  311,  6865,   430,    11]])\n",
      "target:  tensor([[  473,  1846,  2744,  3463],\n",
      "        [ 7762,   480,   285, 22464],\n",
      "        [ 4856,   264, 12136, 35201],\n",
      "        [  313,  4636,   264,  1695],\n",
      "        [12637,  3403,   313,   708],\n",
      "        [  433,   574,   912,  2294],\n",
      "        [13051,   311,   757,   311],\n",
      "        [ 6865,   430,    11,   304]])\n"
     ]
    }
   ],
   "source": [
    "dataiter = iter(dataloader)\n",
    "input_ids, target_ids = next(dataiter)\n",
    "print(\"input: \", input_ids)\n",
    "print(\"target: \", target_ids)"
   ]
  },
  {
   "cell_type": "code",
   "execution_count": 54,
   "id": "763a67a8",
   "metadata": {},
   "outputs": [
    {
     "name": "stdout",
     "output_type": "stream",
     "text": [
      "tensor([[[-0.0640,  0.3317,  0.1070,  ...,  0.5349, -0.8024, -2.3238],\n",
      "         [-2.6152,  1.8968, -2.0278,  ..., -0.9420,  0.3943,  0.6963],\n",
      "         [-0.4542,  0.0804,  0.2498,  ...,  2.8720,  0.8886, -0.7654],\n",
      "         [ 0.4551,  0.7934,  0.4339,  ..., -0.8529, -1.6315,  0.0425]],\n",
      "\n",
      "        [[-0.1158, -0.0547,  1.0704,  ..., -1.2570, -0.6866, -1.6936],\n",
      "         [-0.3795, -0.2749,  0.7593,  ...,  0.1062, -0.3005,  1.0571],\n",
      "         [-0.8287,  1.6981, -0.3909,  ..., -1.7100,  1.3018, -1.0101],\n",
      "         [ 1.0111, -0.0495,  2.4740,  ..., -0.3767, -0.1712, -0.2918]],\n",
      "\n",
      "        [[ 0.8354, -0.4926, -0.0470,  ...,  2.4018, -0.3425,  0.5318],\n",
      "         [-0.7248,  0.8782, -0.1657,  ..., -0.5799, -0.9146,  0.1777],\n",
      "         [ 0.1425,  0.4516, -1.3591,  ..., -0.2467,  1.3578, -0.7550],\n",
      "         [ 0.1018, -1.8138, -2.1062,  ...,  0.7594, -0.7817, -1.4979]],\n",
      "\n",
      "        ...,\n",
      "\n",
      "        [[-1.0516,  1.9677,  0.9734,  ...,  2.0354, -1.1147, -1.0602],\n",
      "         [ 1.1154, -0.7639, -2.5322,  ...,  0.9054,  0.7929, -0.8660],\n",
      "         [-1.4657, -0.2590, -1.4378,  ...,  1.0775, -0.3445,  0.1070],\n",
      "         [ 0.8003, -0.9477,  0.8829,  ...,  1.7041,  0.5732, -0.8544]],\n",
      "\n",
      "        [[ 2.0219, -0.3421, -0.6824,  ...,  0.3732,  0.0371,  1.8188],\n",
      "         [ 0.1429,  0.2023, -1.5726,  ..., -0.0934, -0.3182,  0.4229],\n",
      "         [-0.0622,  0.7658,  0.5222,  ..., -0.8974, -1.5024,  2.3415],\n",
      "         [-0.6847,  0.8831, -1.2520,  ...,  0.3775,  0.6488,  0.9182]],\n",
      "\n",
      "        [[-0.0622,  0.7658,  0.5222,  ..., -0.8974, -1.5024,  2.3415],\n",
      "         [ 0.6228, -1.3388, -1.1589,  ..., -0.7615, -0.0877, -0.1755],\n",
      "         [-0.1549, -1.9786, -0.1560,  ..., -0.4791,  0.6233, -1.6433],\n",
      "         [ 1.8056, -1.0064,  0.1582,  ...,  0.2379, -1.1839, -0.3179]]],\n",
      "       grad_fn=<EmbeddingBackward0>)\n"
     ]
    }
   ],
   "source": [
    "# 对每个token id进行向量嵌入，此时每个token id变为256维\n",
    "token_vector = token_embedding_layer(input_ids)\n",
    "print(token_vector)"
   ]
  },
  {
   "cell_type": "code",
   "execution_count": 55,
   "id": "b645d658",
   "metadata": {},
   "outputs": [
    {
     "name": "stdout",
     "output_type": "stream",
     "text": [
      "tensor([[-1.4150, -0.3142,  0.2827,  ...,  0.8155, -0.1085, -1.1927],\n",
      "        [-1.9800,  0.0610, -0.0494,  ..., -0.6422,  0.5716, -1.1329],\n",
      "        [ 1.0052,  1.7802,  1.2652,  ..., -1.1619, -0.1109,  1.0411],\n",
      "        [ 0.3760, -0.3758, -0.0484,  ...,  0.1080,  0.3852,  1.0876]],\n",
      "       grad_fn=<EmbeddingBackward0>)\n"
     ]
    }
   ],
   "source": [
    "# 考虑相对位置，使用递增序列建立嵌入向量，并分与token id变为的嵌入向量进行加和，由于广播机制，位置向量会分别和每一行token id变为的向量加和\n",
    "context_length = max_length\n",
    "pos_embedding_layer = torch.nn.Embedding(context_length, output_dim)\n",
    "pos_embedding = pos_embedding_layer(torch.arange(context_length))\n",
    "print(pos_embedding)"
   ]
  },
  {
   "cell_type": "code",
   "execution_count": 56,
   "id": "bb811396",
   "metadata": {},
   "outputs": [
    {
     "name": "stdout",
     "output_type": "stream",
     "text": [
      "tensor([[[-1.4789,  0.0176,  0.3897,  ...,  1.3504, -0.9109, -3.5165],\n",
      "         [-4.5951,  1.9578, -2.0772,  ..., -1.5843,  0.9660, -0.4365],\n",
      "         [ 0.5511,  1.8607,  1.5150,  ...,  1.7102,  0.7776,  0.2757],\n",
      "         [ 0.8312,  0.4176,  0.3856,  ..., -0.7449, -1.2463,  1.1301]],\n",
      "\n",
      "        [[-1.5307, -0.3689,  1.3532,  ..., -0.4415, -0.7951, -2.8863],\n",
      "         [-2.3594, -0.2139,  0.7098,  ..., -0.5360,  0.2711, -0.0757],\n",
      "         [ 0.1765,  3.4784,  0.8743,  ..., -2.8719,  1.1909,  0.0309],\n",
      "         [ 1.3871, -0.4253,  2.4257,  ..., -0.2686,  0.2140,  0.7959]],\n",
      "\n",
      "        [[-0.5796, -0.8068,  0.2357,  ...,  3.2173, -0.4510, -0.6608],\n",
      "         [-2.7048,  0.9392, -0.2151,  ..., -1.2221, -0.3430, -0.9551],\n",
      "         [ 1.1477,  2.2318, -0.0939,  ..., -1.4085,  1.2469,  0.2860],\n",
      "         [ 0.4779, -2.1896, -2.1546,  ...,  0.8674, -0.3965, -0.4103]],\n",
      "\n",
      "        ...,\n",
      "\n",
      "        [[-2.4665,  1.6535,  1.2561,  ...,  2.8509, -1.2232, -2.2529],\n",
      "         [-0.8646, -0.7029, -2.5816,  ...,  0.2632,  1.3645, -1.9988],\n",
      "         [-0.4605,  1.5212, -0.1726,  ..., -0.0844, -0.4554,  1.1480],\n",
      "         [ 1.1763, -1.3235,  0.8346,  ...,  1.8122,  0.9584,  0.2333]],\n",
      "\n",
      "        [[ 0.6069, -0.6563, -0.3996,  ...,  1.1887, -0.0714,  0.6261],\n",
      "         [-1.8370,  0.2633, -1.6220,  ..., -0.7356,  0.2535, -0.7099],\n",
      "         [ 0.9430,  2.5461,  1.7874,  ..., -2.0593, -1.6134,  3.3825],\n",
      "         [-0.3087,  0.5073, -1.3003,  ...,  0.4855,  1.0340,  2.0058]],\n",
      "\n",
      "        [[-1.4772,  0.4517,  0.8049,  ..., -0.0819, -1.6109,  1.1488],\n",
      "         [-1.3572, -1.2778, -1.2083,  ..., -1.4038,  0.4839, -1.3083],\n",
      "         [ 0.8503, -0.1983,  1.1092,  ..., -1.6409,  0.5124, -0.6023],\n",
      "         [ 2.1816, -1.3823,  0.1099,  ...,  0.3460, -0.7987,  0.7697]]],\n",
      "       grad_fn=<AddBackward0>)\n"
     ]
    }
   ],
   "source": [
    "input_embeddings = token_vector + pos_embedding\n",
    "print(input_embeddings)"
   ]
  },
  {
   "cell_type": "code",
   "execution_count": null,
   "id": "9289432c",
   "metadata": {},
   "outputs": [],
   "source": []
  },
  {
   "cell_type": "markdown",
   "id": "8a129045",
   "metadata": {},
   "source": [
    "### 3.3 Attending to different parts of the input with self-attention"
   ]
  },
  {
   "cell_type": "markdown",
   "id": "f320e8bd",
   "metadata": {},
   "source": [
    "#### 3.3.1 A simple self-attention mechanism without trainable weights"
   ]
  },
  {
   "cell_type": "code",
   "execution_count": 57,
   "id": "d8eea51c",
   "metadata": {},
   "outputs": [],
   "source": [
    "inputs = torch.tensor(\n",
    " [[0.43, 0.15, 0.89], # Your (x^1)\n",
    " [0.55, 0.87, 0.66], # journey (x^2)\n",
    " [0.57, 0.85, 0.64], # starts (x^3)\n",
    " [0.22, 0.58, 0.33], # with (x^4)\n",
    " [0.77, 0.25, 0.10], # one (x^5)\n",
    " [0.05, 0.80, 0.55]] # step (x^6)\n",
    ")"
   ]
  },
  {
   "cell_type": "code",
   "execution_count": 58,
   "id": "e290dd41",
   "metadata": {},
   "outputs": [
    {
     "name": "stdout",
     "output_type": "stream",
     "text": [
      "tensor([0.9544, 1.4950, 1.4754, 0.8434, 0.7070, 1.0865])\n"
     ]
    }
   ],
   "source": [
    "# 对第二个向量计算注意力权重\n",
    "query = inputs[1]\n",
    "attn_scores_2 = torch.empty(inputs.shape[0])\n",
    "for i, x_i in enumerate(inputs):\n",
    "    attn_scores_2[i] = torch.dot(query, x_i)\n",
    "print(attn_scores_2)"
   ]
  },
  {
   "cell_type": "code",
   "execution_count": 59,
   "id": "0e00beb3",
   "metadata": {},
   "outputs": [
    {
     "name": "stdout",
     "output_type": "stream",
     "text": [
      "tensor([0.1455, 0.2278, 0.2249, 0.1285, 0.1077, 0.1656])\n"
     ]
    }
   ],
   "source": [
    "# 进行归一化（按比例）\n",
    "attn_weights_2_tmp = attn_scores_2 / attn_scores_2.sum()\n",
    "print(attn_weights_2_tmp)"
   ]
  },
  {
   "cell_type": "code",
   "execution_count": 60,
   "id": "3320bd30",
   "metadata": {},
   "outputs": [
    {
     "data": {
      "text/plain": [
       "tensor(1.0000)"
      ]
     },
     "execution_count": 60,
     "metadata": {},
     "output_type": "execute_result"
    }
   ],
   "source": [
    "attn_weights_2_tmp.sum()"
   ]
  },
  {
   "cell_type": "code",
   "execution_count": 61,
   "id": "98ab0838",
   "metadata": {},
   "outputs": [],
   "source": [
    "# 简单softmax归一化\n",
    "def softmax_naive(x):\n",
    "    result = torch.exp(x) / torch.exp(x).sum()\n",
    "    return result"
   ]
  },
  {
   "cell_type": "code",
   "execution_count": 62,
   "id": "9b9c5575",
   "metadata": {},
   "outputs": [
    {
     "name": "stdout",
     "output_type": "stream",
     "text": [
      "tensor([0.1385, 0.2379, 0.2333, 0.1240, 0.1082, 0.1581])\n"
     ]
    }
   ],
   "source": [
    "attn_weights_2_naive = softmax_naive(attn_scores_2)\n",
    "print(attn_weights_2_naive)"
   ]
  },
  {
   "cell_type": "code",
   "execution_count": 63,
   "id": "1778849a",
   "metadata": {},
   "outputs": [
    {
     "data": {
      "text/plain": [
       "tensor(1.)"
      ]
     },
     "execution_count": 63,
     "metadata": {},
     "output_type": "execute_result"
    }
   ],
   "source": [
    "attn_weights_2_naive.sum()"
   ]
  },
  {
   "cell_type": "code",
   "execution_count": 64,
   "id": "0842a40b",
   "metadata": {},
   "outputs": [
    {
     "name": "stdout",
     "output_type": "stream",
     "text": [
      "tensor([0.1385, 0.2379, 0.2333, 0.1240, 0.1082, 0.1581]) tensor(1.)\n"
     ]
    }
   ],
   "source": [
    "# 使用pytorch的softmax函数进行归一化\n",
    "attn_weights_2 = torch.softmax(attn_scores_2, dim=0)\n",
    "print(attn_weights_2, attn_weights_2.sum())"
   ]
  },
  {
   "cell_type": "code",
   "execution_count": 65,
   "id": "786622a5",
   "metadata": {},
   "outputs": [],
   "source": [
    "# context vector\n",
    "context_vec_2 = torch.zeros(query.shape)\n",
    "for i, x_i in enumerate(inputs):\n",
    "    context_vec_2 += attn_weights_2[i] * x_i"
   ]
  },
  {
   "cell_type": "code",
   "execution_count": 66,
   "id": "92d4ce18",
   "metadata": {},
   "outputs": [
    {
     "data": {
      "text/plain": [
       "tensor([0.4419, 0.6515, 0.5683])"
      ]
     },
     "execution_count": 66,
     "metadata": {},
     "output_type": "execute_result"
    }
   ],
   "source": [
    "context_vec_2"
   ]
  },
  {
   "cell_type": "code",
   "execution_count": 67,
   "id": "7daa5dd7",
   "metadata": {},
   "outputs": [],
   "source": [
    "# 计算所有inputs的context vector\n",
    "def context_vec_cal_v1(inputs):\n",
    "    attn_weights_all = torch.zeros([inputs.shape[0], inputs.shape[0]])\n",
    "    for i in range(len(inputs)):\n",
    "        for j in range(len(inputs)):\n",
    "            attn_weights_all[i][j] += inputs[i].dot(inputs[j])\n",
    "    attn_weights_norm = torch.softmax(attn_weights_all, dim=1)\n",
    "    \n",
    "#     return attn_weights_norm\n",
    "    \n",
    "    context_vec_all = torch.zeros(inputs.shape)\n",
    "    for i in range(len(inputs)):\n",
    "        for j in range(len(inputs)):\n",
    "            context_vec_all[i] +=  attn_weights_norm[i][j] * inputs[j]\n",
    "    return context_vec_all"
   ]
  },
  {
   "cell_type": "code",
   "execution_count": 68,
   "id": "ced47973",
   "metadata": {},
   "outputs": [
    {
     "data": {
      "text/plain": [
       "tensor([[0.4421, 0.5931, 0.5790],\n",
       "        [0.4419, 0.6515, 0.5683],\n",
       "        [0.4431, 0.6496, 0.5671],\n",
       "        [0.4304, 0.6298, 0.5510],\n",
       "        [0.4671, 0.5910, 0.5266],\n",
       "        [0.4177, 0.6503, 0.5645]])"
      ]
     },
     "execution_count": 68,
     "metadata": {},
     "output_type": "execute_result"
    }
   ],
   "source": [
    "context_vec_cal_v1(inputs)"
   ]
  },
  {
   "cell_type": "code",
   "execution_count": 69,
   "id": "81c070b5",
   "metadata": {},
   "outputs": [],
   "source": [
    "import torch.nn.functional as F\n",
    "\n",
    "def context_vec_cal_v2(inputs):\n",
    "    # inputs: [seq_len, dim]\n",
    "    \n",
    "    # 计算注意力权重矩阵：[seq_len, seq_len]\n",
    "    attn_weights_all = inputs @ inputs.T  # 等价于 dot product，矩阵乘法自动计算所有两两 dot\n",
    "\n",
    "    # 对每一行 softmax，表示每个 token 对所有 token 的注意力\n",
    "    attn_weights_norm = F.softmax(attn_weights_all, dim=1)\n",
    "\n",
    "    # 计算 context vector（即加权求和）：[seq_len, dim]\n",
    "    context_vec_all = attn_weights_norm @ inputs  # 每一行是当前 token 的 context 向量\n",
    "\n",
    "    return context_vec_all"
   ]
  },
  {
   "cell_type": "code",
   "execution_count": 70,
   "id": "45cf38c0",
   "metadata": {},
   "outputs": [
    {
     "data": {
      "text/plain": [
       "tensor([[0.4421, 0.5931, 0.5790],\n",
       "        [0.4419, 0.6515, 0.5683],\n",
       "        [0.4431, 0.6496, 0.5671],\n",
       "        [0.4304, 0.6298, 0.5510],\n",
       "        [0.4671, 0.5910, 0.5266],\n",
       "        [0.4177, 0.6503, 0.5645]])"
      ]
     },
     "execution_count": 70,
     "metadata": {},
     "output_type": "execute_result"
    }
   ],
   "source": [
    "context_vec_cal_v2(inputs)"
   ]
  },
  {
   "cell_type": "code",
   "execution_count": 71,
   "id": "9db15e8f",
   "metadata": {},
   "outputs": [
    {
     "data": {
      "text/plain": [
       "tensor([[0.4300, 0.1500, 0.8900],\n",
       "        [0.5500, 0.8700, 0.6600],\n",
       "        [0.5700, 0.8500, 0.6400],\n",
       "        [0.2200, 0.5800, 0.3300],\n",
       "        [0.7700, 0.2500, 0.1000],\n",
       "        [0.0500, 0.8000, 0.5500]])"
      ]
     },
     "execution_count": 71,
     "metadata": {},
     "output_type": "execute_result"
    }
   ],
   "source": [
    "inputs"
   ]
  },
  {
   "cell_type": "code",
   "execution_count": 72,
   "id": "7cac3ee7",
   "metadata": {},
   "outputs": [
    {
     "data": {
      "text/plain": [
       "tensor([[0.9995, 0.9544, 0.9422, 0.4753, 0.4576, 0.6310],\n",
       "        [0.9544, 1.4950, 1.4754, 0.8434, 0.7070, 1.0865],\n",
       "        [0.9422, 1.4754, 1.4570, 0.8296, 0.7154, 1.0605],\n",
       "        [0.4753, 0.8434, 0.8296, 0.4937, 0.3474, 0.6565],\n",
       "        [0.4576, 0.7070, 0.7154, 0.3474, 0.6654, 0.2935],\n",
       "        [0.6310, 1.0865, 1.0605, 0.6565, 0.2935, 0.9450]])"
      ]
     },
     "execution_count": 72,
     "metadata": {},
     "output_type": "execute_result"
    }
   ],
   "source": [
    "attn_score = inputs @ inputs.T\n",
    "attn_score"
   ]
  },
  {
   "cell_type": "code",
   "execution_count": 73,
   "id": "f91e2e3f",
   "metadata": {},
   "outputs": [
    {
     "data": {
      "text/plain": [
       "tensor([[0.2098, 0.2006, 0.1981, 0.1242, 0.1220, 0.1452],\n",
       "        [0.1385, 0.2379, 0.2333, 0.1240, 0.1082, 0.1581],\n",
       "        [0.1390, 0.2369, 0.2326, 0.1242, 0.1108, 0.1565],\n",
       "        [0.1435, 0.2074, 0.2046, 0.1462, 0.1263, 0.1720],\n",
       "        [0.1526, 0.1958, 0.1975, 0.1367, 0.1879, 0.1295],\n",
       "        [0.1385, 0.2184, 0.2128, 0.1420, 0.0988, 0.1896]])"
      ]
     },
     "execution_count": 73,
     "metadata": {},
     "output_type": "execute_result"
    }
   ],
   "source": [
    "attn_weights = torch.softmax(attn_score, dim=-1)\n",
    "attn_weights"
   ]
  },
  {
   "cell_type": "code",
   "execution_count": 74,
   "id": "b4027845",
   "metadata": {},
   "outputs": [
    {
     "data": {
      "text/plain": [
       "tensor(1.0000)"
      ]
     },
     "execution_count": 74,
     "metadata": {},
     "output_type": "execute_result"
    }
   ],
   "source": [
    "attn_weights[0].sum()"
   ]
  },
  {
   "cell_type": "code",
   "execution_count": 75,
   "id": "4ea76b06",
   "metadata": {},
   "outputs": [
    {
     "data": {
      "text/plain": [
       "tensor([1.0000, 1.0000, 1.0000, 1.0000, 1.0000, 1.0000])"
      ]
     },
     "execution_count": 75,
     "metadata": {},
     "output_type": "execute_result"
    }
   ],
   "source": [
    "attn_weights.sum(dim=-1)"
   ]
  },
  {
   "cell_type": "code",
   "execution_count": 76,
   "id": "4d4c4c41",
   "metadata": {},
   "outputs": [
    {
     "data": {
      "text/plain": [
       "tensor([[0.4421, 0.5931, 0.5790],\n",
       "        [0.4419, 0.6515, 0.5683],\n",
       "        [0.4431, 0.6496, 0.5671],\n",
       "        [0.4304, 0.6298, 0.5510],\n",
       "        [0.4671, 0.5910, 0.5266],\n",
       "        [0.4177, 0.6503, 0.5645]])"
      ]
     },
     "execution_count": 76,
     "metadata": {},
     "output_type": "execute_result"
    }
   ],
   "source": [
    "attn_context_vecs = attn_weights @ inputs\n",
    "attn_context_vecs"
   ]
  },
  {
   "cell_type": "markdown",
   "id": "ab88e4de",
   "metadata": {},
   "source": [
    "### 3.4 Implementing self-attention with trainable weights"
   ]
  },
  {
   "cell_type": "markdown",
   "id": "6944f329",
   "metadata": {},
   "source": [
    "#### 3.4.1 Computing the attention weights step by step"
   ]
  },
  {
   "cell_type": "code",
   "execution_count": 77,
   "id": "45f557e4",
   "metadata": {},
   "outputs": [],
   "source": [
    "# 仅计算x2的三个向量\n",
    "x2 = inputs[1]\n",
    "d_in = inputs.shape[1]\n",
    "d_out = 2"
   ]
  },
  {
   "cell_type": "code",
   "execution_count": 78,
   "id": "5732547a",
   "metadata": {},
   "outputs": [
    {
     "data": {
      "text/plain": [
       "<torch._C.Generator at 0x2e1d34f1b10>"
      ]
     },
     "execution_count": 78,
     "metadata": {},
     "output_type": "execute_result"
    }
   ],
   "source": [
    "torch.manual_seed(123)"
   ]
  },
  {
   "cell_type": "code",
   "execution_count": 79,
   "id": "a6d29618",
   "metadata": {},
   "outputs": [],
   "source": [
    "W_q = torch.nn.Parameter(torch.rand(d_in, d_out), requires_grad=False)\n",
    "W_k = torch.nn.Parameter(torch.rand(d_in, d_out), requires_grad=False)\n",
    "W_v = torch.nn.Parameter(torch.rand(d_in, d_out), requires_grad=False)"
   ]
  },
  {
   "cell_type": "code",
   "execution_count": 80,
   "id": "1df31b86",
   "metadata": {},
   "outputs": [
    {
     "name": "stdout",
     "output_type": "stream",
     "text": [
      "tensor([0.4306, 1.4551])\n"
     ]
    }
   ],
   "source": [
    "query_2 = x2 @ W_q\n",
    "key_2 = x2 @ W_k\n",
    "value_2 = x2 @ W_v\n",
    "print(query_2)"
   ]
  },
  {
   "cell_type": "code",
   "execution_count": 81,
   "id": "13841526",
   "metadata": {},
   "outputs": [
    {
     "name": "stdout",
     "output_type": "stream",
     "text": [
      "tensor([[0.2309, 1.0966],\n",
      "        [0.4306, 1.4551],\n",
      "        [0.4300, 1.4343],\n",
      "        [0.2355, 0.7990],\n",
      "        [0.2983, 0.6565],\n",
      "        [0.2568, 1.0533]])\n"
     ]
    }
   ],
   "source": [
    "# 计算所有输入的三个向量\n",
    "query = inputs @ W_q\n",
    "key = inputs @ W_k\n",
    "value = inputs @ W_v\n",
    "print(query)"
   ]
  },
  {
   "cell_type": "code",
   "execution_count": 82,
   "id": "336776ad",
   "metadata": {},
   "outputs": [
    {
     "name": "stdout",
     "output_type": "stream",
     "text": [
      "tensor(1.8524)\n"
     ]
    }
   ],
   "source": [
    "# 计算x2的注意力分数\n",
    "key_2 = key[1]\n",
    "attn_score_22 = query_2.dot(key_2)\n",
    "print(attn_score_22)"
   ]
  },
  {
   "cell_type": "code",
   "execution_count": 83,
   "id": "a5f18242",
   "metadata": {},
   "outputs": [
    {
     "name": "stdout",
     "output_type": "stream",
     "text": [
      "tensor([1.2705, 1.8524, 1.8111, 1.0795, 0.5577, 1.5440])\n"
     ]
    }
   ],
   "source": [
    "attn_score_2 = query_2 @ key.T\n",
    "print(attn_score_2)"
   ]
  },
  {
   "cell_type": "code",
   "execution_count": 84,
   "id": "56b86a55",
   "metadata": {},
   "outputs": [
    {
     "name": "stdout",
     "output_type": "stream",
     "text": [
      "tensor([0.1500, 0.2264, 0.2199, 0.1311, 0.0906, 0.1820])\n"
     ]
    }
   ],
   "source": [
    "d_k = key.shape[-1]\n",
    "attn_weight_2 = torch.softmax(attn_score_2 / d_k ** 0.5, dim=-1)\n",
    "print(attn_weight_2)"
   ]
  },
  {
   "cell_type": "code",
   "execution_count": 85,
   "id": "31be08e4",
   "metadata": {},
   "outputs": [
    {
     "name": "stdout",
     "output_type": "stream",
     "text": [
      "tensor([0.3061, 0.8210])\n"
     ]
    }
   ],
   "source": [
    "context_vec_2 = attn_weight_2 @ value\n",
    "print(context_vec_2)"
   ]
  },
  {
   "cell_type": "markdown",
   "id": "d53008e5",
   "metadata": {},
   "source": [
    "##### 3.4.2 Implementing a compact self-attention Python class"
   ]
  },
  {
   "cell_type": "code",
   "execution_count": 86,
   "id": "6884b478",
   "metadata": {},
   "outputs": [],
   "source": [
    "class selfAttention_v1(torch.nn.Module):\n",
    "    def __init__(self, d_in, d_out):\n",
    "        super().__init__()\n",
    "        self.W_q = torch.nn.Parameter(torch.rand(d_in, d_out))\n",
    "        self.W_k = torch.nn.Parameter(torch.rand(d_in, d_out))\n",
    "        self.W_v = torch.nn.Parameter(torch.rand(d_in, d_out))\n",
    "    \n",
    "    def forward(self, x):\n",
    "        query = x @ self.W_q\n",
    "        key = x @ self.W_k\n",
    "        value = x @ self.W_v\n",
    "#         print(query, key, value)\n",
    "        \n",
    "#         注意力分数\n",
    "        attn_score = query @ key.T\n",
    "        \n",
    "#         print(attn_score)\n",
    "        \n",
    "        # 注意力权重\n",
    "        attn_weight = torch.softmax(attn_score / key.shape[-1] ** 0.5, dim=-1)\n",
    "        \n",
    "#         print(attn_weight)\n",
    "        \n",
    "        # context vector\n",
    "        context_vec = attn_weight @ value\n",
    "        \n",
    "#         print(context_vec)\n",
    "        \n",
    "        return context_vec\n",
    "    \n",
    "    def forward2(self, query, key, value):\n",
    "\n",
    "        attn_score2 = query @ key.T\n",
    "\n",
    "        attn_weight2 = torch.softmax(attn_score2 / key.shape[-1] ** 0.5, dim=-1)\n",
    "        \n",
    "        context_vec2 = attn_weight2 @ value\n",
    "        \n",
    "        return context_vec2\n",
    "        "
   ]
  },
  {
   "cell_type": "code",
   "execution_count": 87,
   "id": "14f60231",
   "metadata": {},
   "outputs": [
    {
     "data": {
      "text/plain": [
       "<torch._C.Generator at 0x2e1d34f1b10>"
      ]
     },
     "execution_count": 87,
     "metadata": {},
     "output_type": "execute_result"
    }
   ],
   "source": [
    "torch.manual_seed(123)"
   ]
  },
  {
   "cell_type": "code",
   "execution_count": 90,
   "id": "87f95515",
   "metadata": {},
   "outputs": [],
   "source": [
    "self_attn = selfAttention_v1(3, 2)"
   ]
  },
  {
   "cell_type": "code",
   "execution_count": 91,
   "id": "d430d88b",
   "metadata": {},
   "outputs": [
    {
     "data": {
      "text/plain": [
       "tensor([[1.4035, 1.0391],\n",
       "        [1.4410, 1.0669],\n",
       "        [1.4391, 1.0655],\n",
       "        [1.3786, 1.0178],\n",
       "        [1.3653, 1.0086],\n",
       "        [1.4025, 1.0361]], grad_fn=<MmBackward0>)"
      ]
     },
     "execution_count": 91,
     "metadata": {},
     "output_type": "execute_result"
    }
   ],
   "source": [
    "self_attn(inputs)"
   ]
  },
  {
   "cell_type": "code",
   "execution_count": 92,
   "id": "bc2e50ae",
   "metadata": {},
   "outputs": [],
   "source": [
    "context_vec_inputs = self_attn.forward(inputs)"
   ]
  },
  {
   "cell_type": "code",
   "execution_count": 93,
   "id": "8778de04",
   "metadata": {},
   "outputs": [
    {
     "data": {
      "text/plain": [
       "torch.Tensor"
      ]
     },
     "execution_count": 93,
     "metadata": {},
     "output_type": "execute_result"
    }
   ],
   "source": [
    "type(context_vec_inputs)"
   ]
  },
  {
   "cell_type": "code",
   "execution_count": 94,
   "id": "0d712930",
   "metadata": {},
   "outputs": [],
   "source": [
    "class selfAttention_v2(torch.nn.Module):\n",
    "    \n",
    "    def __init__(self, d_in, d_out, qkv_bias=False):\n",
    "        super().__init__()\n",
    "        self.W_q = torch.nn.Linear(d_in, d_out, bias=qkv_bias)\n",
    "        self.W_k = torch.nn.Linear(d_in, d_out, bias=qkv_bias)\n",
    "        self.W_v = torch.nn.Linear(d_in, d_out, bias=qkv_bias)\n",
    "    \n",
    "    def forward(self, x):\n",
    "        query = self.W_q(x)\n",
    "        key = self.W_k(x)\n",
    "        value = self.W_v(x)\n",
    "        \n",
    "        attn_score = query @ key.T\n",
    "        \n",
    "        attn_weight = torch.softmax(attn_score / key.shape[-1] ** 0.5, dim=-1)\n",
    "        \n",
    "        context_vec = attn_weight @ value\n",
    "        \n",
    "        return context_vec, query, key, value\n",
    "    "
   ]
  },
  {
   "cell_type": "markdown",
   "id": "80e96dbd",
   "metadata": {},
   "source": [
    "对比两个计算context vector的过程，只有weight计算不同，其余相同"
   ]
  },
  {
   "cell_type": "code",
   "execution_count": 95,
   "id": "d49314b7",
   "metadata": {},
   "outputs": [
    {
     "data": {
      "text/plain": [
       "<torch._C.Generator at 0x2e1d34f1b10>"
      ]
     },
     "execution_count": 95,
     "metadata": {},
     "output_type": "execute_result"
    }
   ],
   "source": [
    "torch.manual_seed(789)"
   ]
  },
  {
   "cell_type": "code",
   "execution_count": 96,
   "id": "3f45dbde",
   "metadata": {},
   "outputs": [],
   "source": [
    "self_attn_2 = selfAttention_v2(3, 2)"
   ]
  },
  {
   "cell_type": "code",
   "execution_count": 97,
   "id": "338f5158",
   "metadata": {},
   "outputs": [],
   "source": [
    "c_v, query2, key2, value2 = self_attn_2(inputs)"
   ]
  },
  {
   "cell_type": "code",
   "execution_count": 98,
   "id": "14a2aab3",
   "metadata": {},
   "outputs": [
    {
     "data": {
      "text/plain": [
       "tensor([[-0.0739,  0.0713],\n",
       "        [-0.0748,  0.0703],\n",
       "        [-0.0749,  0.0702],\n",
       "        [-0.0760,  0.0685],\n",
       "        [-0.0763,  0.0679],\n",
       "        [-0.0754,  0.0693]], grad_fn=<MmBackward0>)"
      ]
     },
     "execution_count": 98,
     "metadata": {},
     "output_type": "execute_result"
    }
   ],
   "source": [
    "c_v"
   ]
  },
  {
   "cell_type": "code",
   "execution_count": 99,
   "id": "fbb1ee59",
   "metadata": {},
   "outputs": [
    {
     "data": {
      "text/plain": [
       "tensor([[ 0.6600, -0.2047],\n",
       "        [ 0.9091, -0.4471],\n",
       "        [ 0.8960, -0.4419],\n",
       "        [ 0.5034, -0.2633],\n",
       "        [ 0.4088, -0.2232],\n",
       "        [ 0.6628, -0.3292]], grad_fn=<MmBackward0>)"
      ]
     },
     "execution_count": 99,
     "metadata": {},
     "output_type": "execute_result"
    }
   ],
   "source": [
    "query2"
   ]
  },
  {
   "cell_type": "code",
   "execution_count": 100,
   "id": "b189e865",
   "metadata": {},
   "outputs": [
    {
     "data": {
      "text/plain": [
       "<torch._C.Generator at 0x2e1d34f1b10>"
      ]
     },
     "execution_count": 100,
     "metadata": {},
     "output_type": "execute_result"
    }
   ],
   "source": [
    "torch.manual_seed(789)"
   ]
  },
  {
   "cell_type": "code",
   "execution_count": 101,
   "id": "9168746f",
   "metadata": {},
   "outputs": [],
   "source": [
    "self_attn_try = selfAttention_v1(3, 2)"
   ]
  },
  {
   "cell_type": "code",
   "execution_count": 102,
   "id": "1b74fb4f",
   "metadata": {},
   "outputs": [
    {
     "data": {
      "text/plain": [
       "tensor([[-0.0739,  0.0713],\n",
       "        [-0.0748,  0.0703],\n",
       "        [-0.0749,  0.0702],\n",
       "        [-0.0760,  0.0685],\n",
       "        [-0.0763,  0.0679],\n",
       "        [-0.0754,  0.0693]], grad_fn=<MmBackward0>)"
      ]
     },
     "execution_count": 102,
     "metadata": {},
     "output_type": "execute_result"
    }
   ],
   "source": [
    "self_attn_try.forward2(query2, key2, value2)"
   ]
  },
  {
   "cell_type": "markdown",
   "id": "9bb4f975",
   "metadata": {},
   "source": [
    "### 3.5 Hiding future words with causal attention"
   ]
  },
  {
   "cell_type": "markdown",
   "id": "2553d908",
   "metadata": {},
   "source": [
    "#### 3.5.1 Applying a causal attention mask"
   ]
  },
  {
   "cell_type": "code",
   "execution_count": 103,
   "id": "672cbbae",
   "metadata": {},
   "outputs": [
    {
     "name": "stdout",
     "output_type": "stream",
     "text": [
      "tensor([[0.1921, 0.1646, 0.1652, 0.1550, 0.1721, 0.1510],\n",
      "        [0.2041, 0.1659, 0.1662, 0.1496, 0.1665, 0.1477],\n",
      "        [0.2036, 0.1659, 0.1662, 0.1498, 0.1664, 0.1480],\n",
      "        [0.1869, 0.1667, 0.1668, 0.1571, 0.1661, 0.1564],\n",
      "        [0.1830, 0.1669, 0.1670, 0.1588, 0.1658, 0.1585],\n",
      "        [0.1935, 0.1663, 0.1666, 0.1542, 0.1666, 0.1529]],\n",
      "       grad_fn=<SoftmaxBackward0>)\n"
     ]
    }
   ],
   "source": [
    "query = self_attn_2.W_q(inputs)\n",
    "key = self_attn_2.W_k(inputs)\n",
    "value = self_attn_2.W_v(inputs)\n",
    "attn_score = query @ key.T\n",
    "attn_weight = torch.softmax(attn_score / key.shape[-1] ** 0.5, dim=-1)\n",
    "print(attn_weight)"
   ]
  },
  {
   "cell_type": "code",
   "execution_count": 104,
   "id": "26525907",
   "metadata": {},
   "outputs": [
    {
     "name": "stdout",
     "output_type": "stream",
     "text": [
      "tensor([[1., 0., 0., 0., 0., 0.],\n",
      "        [1., 1., 0., 0., 0., 0.],\n",
      "        [1., 1., 1., 0., 0., 0.],\n",
      "        [1., 1., 1., 1., 0., 0.],\n",
      "        [1., 1., 1., 1., 1., 0.],\n",
      "        [1., 1., 1., 1., 1., 1.]])\n"
     ]
    }
   ],
   "source": [
    "context_length = attn_weight.shape[0]\n",
    "mask_simple = torch.tril(torch.ones(context_length, context_length))\n",
    "print(mask_simple)"
   ]
  },
  {
   "cell_type": "code",
   "execution_count": 105,
   "id": "d74db833",
   "metadata": {
    "scrolled": true
   },
   "outputs": [
    {
     "name": "stdout",
     "output_type": "stream",
     "text": [
      "tensor([[0.1921, 0.0000, 0.0000, 0.0000, 0.0000, 0.0000],\n",
      "        [0.2041, 0.1659, 0.0000, 0.0000, 0.0000, 0.0000],\n",
      "        [0.2036, 0.1659, 0.1662, 0.0000, 0.0000, 0.0000],\n",
      "        [0.1869, 0.1667, 0.1668, 0.1571, 0.0000, 0.0000],\n",
      "        [0.1830, 0.1669, 0.1670, 0.1588, 0.1658, 0.0000],\n",
      "        [0.1935, 0.1663, 0.1666, 0.1542, 0.1666, 0.1529]],\n",
      "       grad_fn=<MulBackward0>)\n"
     ]
    }
   ],
   "source": [
    "masked_simple = mask_simple * attn_weight\n",
    "print(masked_simple)"
   ]
  },
  {
   "cell_type": "code",
   "execution_count": 106,
   "id": "922f8e50",
   "metadata": {},
   "outputs": [
    {
     "data": {
      "text/plain": [
       "tensor([0.1921, 0.3700, 0.5357, 0.6775, 0.8415, 1.0000],\n",
       "       grad_fn=<SumBackward1>)"
      ]
     },
     "execution_count": 106,
     "metadata": {},
     "output_type": "execute_result"
    }
   ],
   "source": [
    "row_sums = masked_simple.sum(dim=-1)\n",
    "row_sums"
   ]
  },
  {
   "cell_type": "code",
   "execution_count": 107,
   "id": "832f1ca0",
   "metadata": {},
   "outputs": [
    {
     "data": {
      "text/plain": [
       "tensor([[0.1921],\n",
       "        [0.3700],\n",
       "        [0.5357],\n",
       "        [0.6775],\n",
       "        [0.8415],\n",
       "        [1.0000]], grad_fn=<SumBackward1>)"
      ]
     },
     "execution_count": 107,
     "metadata": {},
     "output_type": "execute_result"
    }
   ],
   "source": [
    "row_sums = masked_simple.sum(dim=-1, keepdim=True)\n",
    "row_sums"
   ]
  },
  {
   "cell_type": "code",
   "execution_count": 108,
   "id": "d1ffe82b",
   "metadata": {},
   "outputs": [
    {
     "name": "stdout",
     "output_type": "stream",
     "text": [
      "tensor([[1.0000, 0.0000, 0.0000, 0.0000, 0.0000, 0.0000],\n",
      "        [0.5517, 0.4483, 0.0000, 0.0000, 0.0000, 0.0000],\n",
      "        [0.3800, 0.3097, 0.3103, 0.0000, 0.0000, 0.0000],\n",
      "        [0.2758, 0.2460, 0.2462, 0.2319, 0.0000, 0.0000],\n",
      "        [0.2175, 0.1983, 0.1984, 0.1888, 0.1971, 0.0000],\n",
      "        [0.1935, 0.1663, 0.1666, 0.1542, 0.1666, 0.1529]],\n",
      "       grad_fn=<DivBackward0>)\n"
     ]
    }
   ],
   "source": [
    "masked_simple_norm = masked_simple / row_sums\n",
    "print(masked_simple_norm)"
   ]
  },
  {
   "cell_type": "code",
   "execution_count": 109,
   "id": "2a03b76e",
   "metadata": {},
   "outputs": [
    {
     "data": {
      "text/plain": [
       "tensor([[0., 1., 1., 1., 1., 1.],\n",
       "        [0., 0., 1., 1., 1., 1.],\n",
       "        [0., 0., 0., 1., 1., 1.],\n",
       "        [0., 0., 0., 0., 1., 1.],\n",
       "        [0., 0., 0., 0., 0., 1.],\n",
       "        [0., 0., 0., 0., 0., 0.]])"
      ]
     },
     "execution_count": 109,
     "metadata": {},
     "output_type": "execute_result"
    }
   ],
   "source": [
    "mask = torch.triu(torch.ones(context_length, context_length), diagonal=1)\n",
    "mask"
   ]
  },
  {
   "cell_type": "code",
   "execution_count": 110,
   "id": "07a3308a",
   "metadata": {},
   "outputs": [
    {
     "data": {
      "text/plain": [
       "tensor([[0.2899,   -inf,   -inf,   -inf,   -inf,   -inf],\n",
       "        [0.4656, 0.1723,   -inf,   -inf,   -inf,   -inf],\n",
       "        [0.4594, 0.1703, 0.1731,   -inf,   -inf,   -inf],\n",
       "        [0.2642, 0.1024, 0.1036, 0.0186,   -inf,   -inf],\n",
       "        [0.2183, 0.0874, 0.0882, 0.0177, 0.0786,   -inf],\n",
       "        [0.3408, 0.1270, 0.1290, 0.0198, 0.1290, 0.0078]],\n",
       "       grad_fn=<MaskedFillBackward0>)"
      ]
     },
     "execution_count": 110,
     "metadata": {},
     "output_type": "execute_result"
    }
   ],
   "source": [
    "masked = attn_score.masked_fill(mask.bool(), -torch.inf)\n",
    "masked"
   ]
  },
  {
   "cell_type": "code",
   "execution_count": 111,
   "id": "6d6010a0",
   "metadata": {},
   "outputs": [
    {
     "data": {
      "text/plain": [
       "tensor([[1.0000, 0.0000, 0.0000, 0.0000, 0.0000, 0.0000],\n",
       "        [0.5517, 0.4483, 0.0000, 0.0000, 0.0000, 0.0000],\n",
       "        [0.3800, 0.3097, 0.3103, 0.0000, 0.0000, 0.0000],\n",
       "        [0.2758, 0.2460, 0.2462, 0.2319, 0.0000, 0.0000],\n",
       "        [0.2175, 0.1983, 0.1984, 0.1888, 0.1971, 0.0000],\n",
       "        [0.1935, 0.1663, 0.1666, 0.1542, 0.1666, 0.1529]],\n",
       "       grad_fn=<SoftmaxBackward0>)"
      ]
     },
     "execution_count": 111,
     "metadata": {},
     "output_type": "execute_result"
    }
   ],
   "source": [
    "attn_weights = torch.softmax(masked / key.shape[-1] ** 0.5, dim=-1)\n",
    "attn_weights"
   ]
  },
  {
   "cell_type": "markdown",
   "id": "9fca76f8",
   "metadata": {},
   "source": [
    "使用dropout防止过拟合"
   ]
  },
  {
   "cell_type": "code",
   "execution_count": 112,
   "id": "e7d128d6",
   "metadata": {},
   "outputs": [
    {
     "data": {
      "text/plain": [
       "tensor([[2., 2., 0., 2., 2., 0.],\n",
       "        [0., 0., 0., 2., 0., 2.],\n",
       "        [2., 2., 2., 2., 0., 2.],\n",
       "        [0., 2., 2., 0., 0., 2.],\n",
       "        [0., 2., 0., 2., 0., 2.],\n",
       "        [0., 2., 2., 2., 2., 0.]])"
      ]
     },
     "execution_count": 112,
     "metadata": {},
     "output_type": "execute_result"
    }
   ],
   "source": [
    "torch.manual_seed(123)\n",
    "dropout = torch.nn.Dropout(0.5)\n",
    "example = torch.ones(6, 6)\n",
    "dropout(example)"
   ]
  },
  {
   "cell_type": "code",
   "execution_count": 113,
   "id": "42e13ed7",
   "metadata": {},
   "outputs": [
    {
     "data": {
      "text/plain": [
       "<torch._C.Generator at 0x2e1d34f1b10>"
      ]
     },
     "execution_count": 113,
     "metadata": {},
     "output_type": "execute_result"
    }
   ],
   "source": [
    "torch.manual_seed(123)"
   ]
  },
  {
   "cell_type": "code",
   "execution_count": 114,
   "id": "527f6955",
   "metadata": {},
   "outputs": [
    {
     "data": {
      "text/plain": [
       "tensor([[2.0000, 0.0000, 0.0000, 0.0000, 0.0000, 0.0000],\n",
       "        [0.0000, 0.0000, 0.0000, 0.0000, 0.0000, 0.0000],\n",
       "        [0.7599, 0.6194, 0.6206, 0.0000, 0.0000, 0.0000],\n",
       "        [0.0000, 0.4921, 0.4925, 0.0000, 0.0000, 0.0000],\n",
       "        [0.0000, 0.3966, 0.0000, 0.3775, 0.0000, 0.0000],\n",
       "        [0.0000, 0.3327, 0.3331, 0.3084, 0.3331, 0.0000]],\n",
       "       grad_fn=<MulBackward0>)"
      ]
     },
     "execution_count": 114,
     "metadata": {},
     "output_type": "execute_result"
    }
   ],
   "source": [
    "dropout(attn_weights)"
   ]
  },
  {
   "cell_type": "code",
   "execution_count": null,
   "id": "a17640c6",
   "metadata": {},
   "outputs": [],
   "source": []
  },
  {
   "cell_type": "markdown",
   "id": "f561965a",
   "metadata": {},
   "source": [
    "#### 3.5.3 Implementing a compact causal attention class"
   ]
  },
  {
   "cell_type": "code",
   "execution_count": 115,
   "id": "0e01db1f",
   "metadata": {},
   "outputs": [],
   "source": [
    "class CausalAttention(torch.nn.Module):\n",
    "    def __init__(self, d_in, d_out, context_length, dropout, qkv_bias=False):\n",
    "        super().__init__()\n",
    "        self.d_out = d_out\n",
    "        self.W_q = torch.nn.Linear(d_in, d_out, bias=qkv_bias)\n",
    "        self.W_k = torch.nn.Linear(d_in, d_out, bias=qkv_bias)\n",
    "        self.W_v = torch.nn.Linear(d_in, d_out, bias=qkv_bias)\n",
    "        self.dropout = torch.nn.Dropout(dropout)\n",
    "        self.register_buffer(\"mask\", torch.triu(torch.ones(context_length, context_length), diagonal=1))  # 这种方式可以将tensor随model移动位置\n",
    "    \n",
    "    def forward(self, x):\n",
    "        batch, num_tokens, d_in = x.shape\n",
    "        queries = self.W_q(x)\n",
    "        keys = self.W_k(x)\n",
    "        values = self.W_v(x)\n",
    "        \n",
    "        attn_score = queries @ keys.transpose(1, 2)  # 交换第1、2维（从0开始）\n",
    "        \n",
    "        attn_score_mask = attn_score.masked_fill_(mask.bool()[:num_tokens, :num_tokens], -torch.inf)\n",
    "        \n",
    "        attn_weight = torch.softmax(attn_score_mask / keys.shape[-1] ** 0.5, dim=-1)\n",
    "        \n",
    "        attn_weight_dropout = self.dropout(attn_weight)\n",
    "        \n",
    "        context_vec = attn_weight_dropout @ values\n",
    "        \n",
    "        return context_vec"
   ]
  },
  {
   "cell_type": "code",
   "execution_count": 116,
   "id": "bbf49d37",
   "metadata": {},
   "outputs": [
    {
     "data": {
      "text/plain": [
       "torch.Size([2, 6, 3])"
      ]
     },
     "execution_count": 116,
     "metadata": {},
     "output_type": "execute_result"
    }
   ],
   "source": [
    "batch = torch.stack((inputs, inputs), dim=0)\n",
    "batch.shape"
   ]
  },
  {
   "cell_type": "code",
   "execution_count": 117,
   "id": "fcc2cd32",
   "metadata": {},
   "outputs": [],
   "source": [
    "torch.manual_seed(123)\n",
    "context_length = batch.shape[1]\n",
    "ca = CausalAttention(3, 2, context_length, 0.0)\n",
    "context_vecs = ca(batch)"
   ]
  },
  {
   "cell_type": "code",
   "execution_count": 118,
   "id": "89ed3da9",
   "metadata": {},
   "outputs": [
    {
     "data": {
      "text/plain": [
       "torch.Size([2, 6, 2])"
      ]
     },
     "execution_count": 118,
     "metadata": {},
     "output_type": "execute_result"
    }
   ],
   "source": [
    "context_vecs.shape"
   ]
  },
  {
   "cell_type": "code",
   "execution_count": 119,
   "id": "759172a0",
   "metadata": {},
   "outputs": [
    {
     "data": {
      "text/plain": [
       "tensor([[[-0.4519,  0.2216],\n",
       "         [-0.5874,  0.0058],\n",
       "         [-0.6300, -0.0632],\n",
       "         [-0.5675, -0.0843],\n",
       "         [-0.5526, -0.0981],\n",
       "         [-0.5299, -0.1081]],\n",
       "\n",
       "        [[-0.4519,  0.2216],\n",
       "         [-0.5874,  0.0058],\n",
       "         [-0.6300, -0.0632],\n",
       "         [-0.5675, -0.0843],\n",
       "         [-0.5526, -0.0981],\n",
       "         [-0.5299, -0.1081]]], grad_fn=<UnsafeViewBackward0>)"
      ]
     },
     "execution_count": 119,
     "metadata": {},
     "output_type": "execute_result"
    }
   ],
   "source": [
    "context_vecs"
   ]
  },
  {
   "cell_type": "markdown",
   "id": "0a562e4a",
   "metadata": {},
   "source": [
    "### 3.6 Extending single-head attention to multi-head attention"
   ]
  },
  {
   "cell_type": "markdown",
   "id": "2e70b3da",
   "metadata": {},
   "source": [
    "#### 3.6.1 Stacking multiple single-head attention layers"
   ]
  },
  {
   "cell_type": "code",
   "execution_count": 120,
   "id": "8b79e16e",
   "metadata": {},
   "outputs": [],
   "source": [
    "class MultiHeadAttentionWrapper(torch.nn.Module):\n",
    "    def __init__(self, d_in, d_out, context_length, dropout, num_head, qkv_bias=False):\n",
    "        super().__init__()\n",
    "        self.heads = torch.nn.ModuleList([CausalAttention(d_in, d_out, context_length, dropout, qkv_bias) for _ in range(num_head)])\n",
    "        \n",
    "    def forward(self, x):\n",
    "        return torch.cat([head(x) for head in self.heads], dim=-1)"
   ]
  },
  {
   "cell_type": "code",
   "execution_count": 121,
   "id": "dbd61c71",
   "metadata": {},
   "outputs": [
    {
     "data": {
      "text/plain": [
       "<torch._C.Generator at 0x2e1d34f1b10>"
      ]
     },
     "execution_count": 121,
     "metadata": {},
     "output_type": "execute_result"
    }
   ],
   "source": [
    "torch.manual_seed(123)"
   ]
  },
  {
   "cell_type": "code",
   "execution_count": 122,
   "id": "8d8ac0e5",
   "metadata": {},
   "outputs": [],
   "source": [
    "multi_attn = MultiHeadAttentionWrapper(d_in, d_out, context_length, dropout=0.0, num_head=2)"
   ]
  },
  {
   "cell_type": "code",
   "execution_count": 123,
   "id": "7161387a",
   "metadata": {
    "scrolled": true
   },
   "outputs": [
    {
     "data": {
      "text/plain": [
       "tensor([[[-0.4519,  0.2216,  0.4772,  0.1063],\n",
       "         [-0.5874,  0.0058,  0.5891,  0.3257],\n",
       "         [-0.6300, -0.0632,  0.6202,  0.3860],\n",
       "         [-0.5675, -0.0843,  0.5478,  0.3589],\n",
       "         [-0.5526, -0.0981,  0.5321,  0.3428],\n",
       "         [-0.5299, -0.1081,  0.5077,  0.3493]],\n",
       "\n",
       "        [[-0.4519,  0.2216,  0.4772,  0.1063],\n",
       "         [-0.5874,  0.0058,  0.5891,  0.3257],\n",
       "         [-0.6300, -0.0632,  0.6202,  0.3860],\n",
       "         [-0.5675, -0.0843,  0.5478,  0.3589],\n",
       "         [-0.5526, -0.0981,  0.5321,  0.3428],\n",
       "         [-0.5299, -0.1081,  0.5077,  0.3493]]], grad_fn=<CatBackward0>)"
      ]
     },
     "execution_count": 123,
     "metadata": {},
     "output_type": "execute_result"
    }
   ],
   "source": [
    "multi_attn(batch)"
   ]
  },
  {
   "cell_type": "markdown",
   "id": "57d3d3ea",
   "metadata": {},
   "source": [
    "尝试将输出列数保持为2"
   ]
  },
  {
   "cell_type": "code",
   "execution_count": 124,
   "id": "88aedb81",
   "metadata": {},
   "outputs": [],
   "source": [
    "multi_attn1 = MultiHeadAttentionWrapper(d_in, 1, context_length, dropout=0.0, num_head=2)"
   ]
  },
  {
   "cell_type": "code",
   "execution_count": 125,
   "id": "f1f508c3",
   "metadata": {},
   "outputs": [
    {
     "data": {
      "text/plain": [
       "tensor([[[0.0189, 0.2729],\n",
       "         [0.2181, 0.3037],\n",
       "         [0.2804, 0.3125],\n",
       "         [0.2830, 0.2793],\n",
       "         [0.2476, 0.2541],\n",
       "         [0.2748, 0.2513]],\n",
       "\n",
       "        [[0.0189, 0.2729],\n",
       "         [0.2181, 0.3037],\n",
       "         [0.2804, 0.3125],\n",
       "         [0.2830, 0.2793],\n",
       "         [0.2476, 0.2541],\n",
       "         [0.2748, 0.2513]]], grad_fn=<CatBackward0>)"
      ]
     },
     "execution_count": 125,
     "metadata": {},
     "output_type": "execute_result"
    }
   ],
   "source": [
    "multi_attn1(batch)"
   ]
  },
  {
   "cell_type": "markdown",
   "id": "b8ec2a9a",
   "metadata": {},
   "source": [
    "#### 3.6.2 Implementing multi-head attention with weight splits"
   ]
  },
  {
   "cell_type": "code",
   "execution_count": 150,
   "id": "a372d322",
   "metadata": {},
   "outputs": [],
   "source": [
    "class MultiHeadAttention(torch.nn.Module):\n",
    "    \n",
    "    def __init__(self, d_in, d_out, context_length, dropout, num_heads, qkv_bias=False):\n",
    "        super().__init__()\n",
    "        assert(d_out % num_heads ==0), \"d_out must be divisible by num_heads\"  \n",
    "        \n",
    "        self.d_out = d_out\n",
    "        self.num_heads = num_heads\n",
    "        self.head_dim = d_out // num_heads  # 多头相当于将单头等比例拆分，计算后再合并\n",
    "        self.W_q = torch.nn.Linear(d_in, d_out, bias=qkv_bias)\n",
    "        self.W_k = torch.nn.Linear(d_in, d_out, bias=qkv_bias)\n",
    "        self.W_v = torch.nn.Linear(d_in, d_out, bias=qkv_bias)\n",
    "        self.out_proj = torch.nn.Linear(d_out, d_out)  # 合并后使信息交融\n",
    "        self.dropout = torch.nn.Dropout(dropout)\n",
    "        self.register_buffer(\"mask\", torch.triu(torch.ones(context_length, context_length), diagonal=1))\n",
    "        \n",
    "    def forward(self, x):\n",
    "        b, num_tokens, d_in = x.shape\n",
    "        \n",
    "        keys = self.W_k(x)\n",
    "        queries = self.W_q(x)\n",
    "        values = self.W_v(x)\n",
    "        \n",
    "        # 进行reshape，分成多头\n",
    "        keys = keys.view(b, num_tokens, self.num_heads, self.head_dim)\n",
    "        queries = queries.view(b, num_tokens, self.num_heads, self.head_dim)\n",
    "        values = values.view(b, num_tokens, self.num_heads, self.head_dim)\n",
    "        \n",
    "        keys = keys.transpose(1, 2)\n",
    "        queries = queries.transpose(1, 2)\n",
    "        values = values.transpose(1, 2)\n",
    "        \n",
    "        attn_scores = queries @ keys.transpose(2, 3)\n",
    "        mask_bool = self.mask.bool()[:num_tokens, :num_tokens]\n",
    "        \n",
    "        attn_scores.masked_fill_(mask_bool, -torch.inf)\n",
    "        \n",
    "        attn_weights = torch.softmax(attn_scores / keys.shape[-1] ** 0.5, dim=-1)\n",
    "        attn_weights_dropout = self.dropout(attn_weights)\n",
    "        \n",
    "        context_vec = (attn_weights_dropout @ values).transpose(1, 2)  # 变回原顺序以便reshape回原来形状\n",
    "        context_vec = context_vec.contiguous().view(b, num_tokens, self.d_out)\n",
    "        context_vec = self.out_proj(context_vec)\n",
    "        \n",
    "        return context_vec\n",
    "    "
   ]
  },
  {
   "cell_type": "code",
   "execution_count": 132,
   "id": "5cc7878c",
   "metadata": {},
   "outputs": [
    {
     "data": {
      "text/plain": [
       "<torch._C.Generator at 0x2e1d34f1b10>"
      ]
     },
     "execution_count": 132,
     "metadata": {},
     "output_type": "execute_result"
    }
   ],
   "source": [
    "torch.manual_seed(123)"
   ]
  },
  {
   "cell_type": "code",
   "execution_count": 133,
   "id": "e999902e",
   "metadata": {},
   "outputs": [],
   "source": [
    "ma = MultiHeadAttention(d_in, d_out, context_length, dropout=0.0, num_heads=2)"
   ]
  },
  {
   "cell_type": "code",
   "execution_count": 134,
   "id": "3f06f4fa",
   "metadata": {},
   "outputs": [
    {
     "data": {
      "text/plain": [
       "tensor([[[0.3190, 0.4858],\n",
       "         [0.2943, 0.3897],\n",
       "         [0.2856, 0.3593],\n",
       "         [0.2693, 0.3873],\n",
       "         [0.2639, 0.3928],\n",
       "         [0.2575, 0.4028]],\n",
       "\n",
       "        [[0.3190, 0.4858],\n",
       "         [0.2943, 0.3897],\n",
       "         [0.2856, 0.3593],\n",
       "         [0.2693, 0.3873],\n",
       "         [0.2639, 0.3928],\n",
       "         [0.2575, 0.4028]]], grad_fn=<ViewBackward0>)"
      ]
     },
     "execution_count": 134,
     "metadata": {},
     "output_type": "execute_result"
    }
   ],
   "source": [
    "ma(batch)"
   ]
  },
  {
   "cell_type": "code",
   "execution_count": null,
   "id": "389e2795",
   "metadata": {},
   "outputs": [],
   "source": []
  },
  {
   "cell_type": "code",
   "execution_count": null,
   "id": "0857bdde",
   "metadata": {},
   "outputs": [],
   "source": []
  },
  {
   "attachments": {
    "image.png": {
     "image/png": "[encoded data removed]"
    }
   },
   "cell_type": "markdown",
   "id": "fbda5809",
   "metadata": {},
   "source": [
    "![image.png](attachment:image.png)"
   ]
  },
  {
   "attachments": {
    "image.png": {
     "image/png": "[encoded data removed]"
    }
   },
   "cell_type": "markdown",
   "id": "f54245c2",
   "metadata": {},
   "source": [
    "![image.png](attachment:image.png)"
   ]
  },
  {
   "cell_type": "markdown",
   "id": "404692fe",
   "metadata": {},
   "source": [
    "**Exercise 3.3 Initializing GPT-2 size attention modules**\n",
    "\n",
    "Using the MultiHeadAttention class, initialize a multi-head attention module that\n",
    "has the same number of attention heads as the smallest GPT-2 model (12 attention\n",
    "heads). Also ensure that you use the respective input and output embedding sizes\n",
    "similar to GPT-2 (768 dimensions). Note that the smallest GPT-2 model supports a\n",
    "context length of 1,024 tokens."
   ]
  },
  {
   "cell_type": "markdown",
   "id": "f09ec930",
   "metadata": {},
   "source": []
  },
  {
   "cell_type": "code",
   "execution_count": 135,
   "id": "8731f084",
   "metadata": {},
   "outputs": [],
   "source": [
    "def create_dataloader_v1(txt, batch_size=4, max_length=256, stride=128, shuffle=True, drop_last=True, num_workers=0):\n",
    "    tokenizer = tiktoken.encoding_for_model(\"gpt-4\")\n",
    "    dataset = GPTDatasetV1(txt, tokenizer, max_length, stride) \n",
    "    dataloader = DataLoader(\n",
    "                            dataset,\n",
    "                            batch_size=batch_size,\n",
    "                            shuffle=shuffle,\n",
    "                            drop_last=drop_last, \n",
    "                            num_workers=num_workers \n",
    "    )\n",
    "    return dataloader"
   ]
  },
  {
   "cell_type": "code",
   "execution_count": 136,
   "id": "b730b809",
   "metadata": {},
   "outputs": [],
   "source": [
    "# 原始数据\n",
    "with open(\"the-verdict.txt\", \"r\") as f:\n",
    "    raw_text = f.read()"
   ]
  },
  {
   "cell_type": "code",
   "execution_count": 142,
   "id": "d474b786",
   "metadata": {},
   "outputs": [],
   "source": [
    "# 建立词表，分词，转换为token_id\n",
    "dataloader = create_dataloader_v1(raw_text, batch_size=8, max_length=4, stride=1, shuffle=False)\n",
    "dataiter = iter(dataloader)\n",
    "input_ids, target_ids = next(dataiter)"
   ]
  },
  {
   "cell_type": "code",
   "execution_count": 138,
   "id": "de11ed17",
   "metadata": {},
   "outputs": [],
   "source": [
    "vocab_size = 50257\n",
    "output_dim = 768"
   ]
  },
  {
   "cell_type": "code",
   "execution_count": 139,
   "id": "a6a7aa30",
   "metadata": {},
   "outputs": [],
   "source": [
    "# 将每个token id转化为嵌入向量\n",
    "token_embedding_layer = torch.nn.Embedding(vocab_size, output_dim)"
   ]
  },
  {
   "cell_type": "code",
   "execution_count": 143,
   "id": "370e9ab4",
   "metadata": {},
   "outputs": [],
   "source": [
    "token_vector = token_embedding_layer(input_ids)"
   ]
  },
  {
   "cell_type": "code",
   "execution_count": 144,
   "id": "395addfe",
   "metadata": {},
   "outputs": [
    {
     "data": {
      "text/plain": [
       "torch.Size([8, 4, 768])"
      ]
     },
     "execution_count": 144,
     "metadata": {},
     "output_type": "execute_result"
    }
   ],
   "source": [
    "token_vector.shape"
   ]
  },
  {
   "cell_type": "code",
   "execution_count": 151,
   "id": "774eb4aa",
   "metadata": {},
   "outputs": [],
   "source": [
    "# 多头注意力机制\n",
    "ma = MultiHeadAttention(768, 768, context_length=1024, dropout=0.0, num_heads=12)"
   ]
  },
  {
   "cell_type": "code",
   "execution_count": 153,
   "id": "071774ff",
   "metadata": {},
   "outputs": [],
   "source": [
    "# 转化为context vector\n",
    "context_txt = ma(token_vector)"
   ]
  },
  {
   "cell_type": "code",
   "execution_count": 154,
   "id": "8838599a",
   "metadata": {},
   "outputs": [
    {
     "data": {
      "text/plain": [
       "torch.Size([8, 4, 768])"
      ]
     },
     "execution_count": 154,
     "metadata": {},
     "output_type": "execute_result"
    }
   ],
   "source": [
    "context_txt.shape"
   ]
  },
  {
   "cell_type": "code",
   "execution_count": 155,
   "id": "f1015b12",
   "metadata": {},
   "outputs": [
    {
     "data": {
      "text/plain": [
       "tensor([[ 0.2276, -0.0853, -0.2489,  ...,  0.4727, -0.2900, -0.5981],\n",
       "        [ 0.1181, -0.0289, -0.0753,  ...,  0.1761, -0.4066, -0.2672],\n",
       "        [ 0.2835, -0.0123, -0.0851,  ...,  0.1309, -0.3219, -0.3513],\n",
       "        [ 0.0723, -0.0893,  0.0013,  ...,  0.1595, -0.2998, -0.3098]],\n",
       "       grad_fn=<SelectBackward0>)"
      ]
     },
     "execution_count": 155,
     "metadata": {},
     "output_type": "execute_result"
    }
   ],
   "source": [
    "context_txt[1]"
   ]
  }
 ],
 "metadata": {
  "kernelspec": {
   "display_name": "Python 3 (ipykernel)",
   "language": "python",
   "name": "python3"
  },
  "language_info": {
   "codemirror_mode": {
    "name": "ipython",
    "version": 3
   },
   "file_extension": ".py",
   "mimetype": "text/x-python",
   "name": "python",
   "nbconvert_exporter": "python",
   "pygments_lexer": "ipython3",
   "version": "3.9.13"
  }
 },
 "nbformat": 4,
 "nbformat_minor": 5
}
